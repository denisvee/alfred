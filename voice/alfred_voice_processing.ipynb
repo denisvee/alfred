{
 "cells": [
  {
   "cell_type": "code",
   "execution_count": null,
   "metadata": {},
   "outputs": [],
   "source": [
    "\"\"\"Pre-processes chunks to be compliant with speech studio length.\"\"\"\n",
    "from pydub import AudioSegment\n",
    "from pydub.silence import split_on_silence\n",
    "voice = AudioSegment.from_file('alfred.wav', format='wav')\n",
    "\n",
    "chunks = split_on_silence(voice, min_silence_len=1500, silence_thresh=-20, keep_silence=500)\n",
    "\n",
    "for i, chunk in enumerate(chunks):\n",
    "    chunk_name = 'alfred_utterances/chunk{0}.wav'.format(i)\n",
    "    print(\"exporting\", chunk_name)\n",
    "    chunk.export(chunk_name, format='wav')"
   ]
  },
  {
   "cell_type": "code",
   "execution_count": null,
   "metadata": {},
   "outputs": [],
   "source": [
    "\"\"\"Leverage speech recognizer as a lightweight transcription API.\"\"\"\n",
    "import azure.cognitiveservices.speech as speechsdk\n",
    "from shutil import copyfile\n",
    "\n",
    "speech_key = %env KEY\n",
    "service_region = %env REGION\n",
    "speech_config = speechsdk.SpeechConfig(subscription=speech_key, region=service_region)\n",
    "\n",
    "chunks = 911\n",
    "\n",
    "for i in range(0, chunks):\n",
    "    # Creates an audio configuration that points to an audio file.\n",
    "    filename = 'utterances/chunk{}.wav'.format(i)\n",
    "    audio_input = speechsdk.audio.AudioConfig(filename=filename)\n",
    "\n",
    "    # Creates a recognizer with the given settings\n",
    "    speech_recognizer = speechsdk.SpeechRecognizer(speech_config=speech_config, audio_config=audio_input)\n",
    "\n",
    "    # Starts speech recognition, and returns after a single utterance is recognized.\n",
    "    result = speech_recognizer.recognize_once()\n",
    "\n",
    "    # Checks result and saves files and transcript formatted for speech studio.\n",
    "    if result.reason == speechsdk.ResultReason.RecognizedSpeech:\n",
    "        formatted_transcript_line = '{}\\t {}'.format(i, result.text)\n",
    "        print(formatted_transcript_line)\n",
    "        copyfile(filename, 'batman_utterances_all/{}.wav'.format(i))\n",
    "        with open(\"transcript.txt\", \"a\") as a_file:\n",
    "            a_file.write(formatted_transcript_line)\n",
    "            a_file.write(\"\\n\")\n",
    "    elif result.reason == speechsdk.ResultReason.NoMatch:\n",
    "        print('No speech could be recognized: {}'.format(result.no_match_details))\n",
    "    elif result.reason == speechsdk.ResultReason.Canceled:\n",
    "        cancellation_details = result.cancellation_details\n",
    "        print('Speech Recognition canceled: {}'.format(cancellation_details.reason))\n",
    "        if cancellation_details.reason == speechsdk.CancellationReason.Error:\n",
    "            print('Error details: {}'.format(cancellation_details.error_details))"
   ]
  }
 ],
 "metadata": {
  "kernelspec": {
   "display_name": "Python 3",
   "language": "python",
   "name": "python3"
  },
  "language_info": {
   "codemirror_mode": {
    "name": "ipython",
    "version": 3
   },
   "file_extension": ".py",
   "mimetype": "text/x-python",
   "name": "python",
   "nbconvert_exporter": "python",
   "pygments_lexer": "ipython3",
   "version": "3.7.4"
  }
 },
 "nbformat": 4,
 "nbformat_minor": 2
}
